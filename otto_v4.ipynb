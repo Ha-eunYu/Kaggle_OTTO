{
  "nbformat": 4,
  "nbformat_minor": 0,
  "metadata": {
    "colab": {
      "provenance": [],
      "authorship_tag": "ABX9TyPidwSHjrD2uSWfk7F07dXU",
      "include_colab_link": true
    },
    "kernelspec": {
      "name": "python3",
      "display_name": "Python 3"
    },
    "language_info": {
      "name": "python"
    }
  },
  "cells": [
    {
      "cell_type": "markdown",
      "metadata": {
        "id": "view-in-github",
        "colab_type": "text"
      },
      "source": [
        "<a href=\"https://colab.research.google.com/github/Ha-eunYu/OTTO/blob/main/otto_v4.ipynb\" target=\"_parent\"><img src=\"https://colab.research.google.com/assets/colab-badge.svg\" alt=\"Open In Colab\"/></a>"
      ]
    },
    {
      "cell_type": "code",
      "execution_count": 1,
      "metadata": {
        "id": "WR6gpIm2cpOB",
        "outputId": "408a440e-4895-4702-8044-77268189793a",
        "colab": {
          "base_uri": "https://localhost:8080/"
        }
      },
      "outputs": [
        {
          "output_type": "stream",
          "name": "stdout",
          "text": [
            "Looking in indexes: https://pypi.org/simple, https://us-python.pkg.dev/colab-wheels/public/simple/\n",
            "Collecting polars\n",
            "  Downloading polars-0.16.1-cp37-abi3-manylinux_2_17_x86_64.manylinux2014_x86_64.whl (15.3 MB)\n",
            "\u001b[2K     \u001b[90m━━━━━━━━━━━━━━━━━━━━━━━━━━━━━━━━━━━━━━━━\u001b[0m \u001b[32m15.3/15.3 MB\u001b[0m \u001b[31m46.4 MB/s\u001b[0m eta \u001b[36m0:00:00\u001b[0m\n",
            "\u001b[?25hRequirement already satisfied: typing_extensions>=4.0.0 in /usr/local/lib/python3.8/dist-packages (from polars) (4.4.0)\n",
            "Installing collected packages: polars\n",
            "Successfully installed polars-0.16.1\n"
          ]
        }
      ],
      "source": [
        "!pip install polars"
      ]
    },
    {
      "cell_type": "code",
      "source": [
        "import polars as pl\n",
        "paths = ['/kaggle/input/candidate-rerank-model-lb-0-575/submission.csv', # 0.575\n",
        "         '/kaggle/input/otto-pipeline2-lb-0-576/submission.csv', # 0.576\n",
        "         '/kaggle/input/otto-tuning-candidate-rerank-model-lb-0-577/submission.csv' # 0.577\n",
        "        ]"
      ],
      "metadata": {
        "id": "XDR_jb5Cdjkk"
      },
      "execution_count": null,
      "outputs": []
    },
    {
      "cell_type": "code",
      "source": [
        "def read_sub(path, weight=1): # by default let us assing the weight of 1 to predictions from each submission, this will be akin to a standard vote ensemble\n",
        "    '''a helper function for loading and preprocessing submissions'''\n",
        "    return (\n",
        "        pl.read_csv(path)\n",
        "            .with_column(pl.col('labels').str.split(by=' '))\n",
        "            .with_column(pl.lit(weight).alias('vote'))\n",
        "            .explode('labels')\n",
        "            .rename({'labels': 'aid'})\n",
        "            .with_column(pl.col('aid').cast(pl.UInt32)) # we are casting the `aids` to `Int32`! memory management is super important to ensure we don't run out of resources\n",
        "            .with_column(pl.col('vote').cast(pl.UInt8))\n",
        "    )"
      ],
      "metadata": {
        "id": "NcWzGjC_dlFZ"
      },
      "execution_count": null,
      "outputs": []
    },
    {
      "cell_type": "code",
      "source": [
        "subs = [read_sub(path) for path in paths]\n",
        "subs[0].head()"
      ],
      "metadata": {
        "id": "Kz37U83Bd90t"
      },
      "execution_count": null,
      "outputs": []
    },
    {
      "cell_type": "code",
      "source": [
        "subs = subs[0].join(subs[1], how='outer', on=['session_type', 'aid']).join(subs[2], how='outer', on=['session_type', 'aid'], suffix='_right2')\n",
        "subs.head()"
      ],
      "metadata": {
        "id": "T5cPwEW6d_Gt"
      },
      "execution_count": null,
      "outputs": []
    },
    {
      "cell_type": "code",
      "source": [
        "subs = (subs\n",
        "    .fill_null(0)\n",
        "    .with_column((pl.col('vote') + pl.col('vote_right') + pl.col('vote_right2')).alias('vote_sum'))\n",
        "    .drop(['vote', 'vote_right', 'vote_right2'])\n",
        "    .sort(by='vote_sum')\n",
        "    .reverse()\n",
        ")\n",
        "\n",
        "subs.head()"
      ],
      "metadata": {
        "id": "EnwkQyqPeC51"
      },
      "execution_count": null,
      "outputs": []
    },
    {
      "cell_type": "code",
      "source": [
        "%%time\n",
        "preds = subs.groupby('session_type').agg([\n",
        "    pl.col('aid').head(20).alias('labels')\n",
        "])\n",
        "\n",
        "preds = preds.with_column(pl.col('labels').apply(lambda lst: ' '.join([str(aid) for aid in lst])))"
      ],
      "metadata": {
        "id": "HsDN7t9-eJV2"
      },
      "execution_count": null,
      "outputs": []
    },
    {
      "cell_type": "code",
      "source": [
        "preds.write_csv('submission.csv')"
      ],
      "metadata": {
        "id": "OTX-6Ln3MCpU"
      },
      "execution_count": null,
      "outputs": []
    }
  ]
}