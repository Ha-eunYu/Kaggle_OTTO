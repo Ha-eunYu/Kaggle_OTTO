{
  "nbformat": 4,
  "nbformat_minor": 0,
  "metadata": {
    "colab": {
      "provenance": [],
      "authorship_tag": "ABX9TyPxMNBQpYfdUh5W51S+J0H7",
      "include_colab_link": true
    },
    "kernelspec": {
      "name": "python3",
      "display_name": "Python 3"
    },
    "language_info": {
      "name": "python"
    }
  },
  "cells": [
    {
      "cell_type": "markdown",
      "metadata": {
        "id": "view-in-github",
        "colab_type": "text"
      },
      "source": [
        "<a href=\"https://colab.research.google.com/github/Ha-eunYu/OTTO/blob/main/otto_v4.ipynb\" target=\"_parent\"><img src=\"https://colab.research.google.com/assets/colab-badge.svg\" alt=\"Open In Colab\"/></a>"
      ]
    },
    {
      "cell_type": "code",
      "execution_count": 1,
      "metadata": {
        "id": "WR6gpIm2cpOB",
        "colab": {
          "base_uri": "https://localhost:8080/"
        },
        "outputId": "292901fb-25f9-4018-864e-15483aa699ac"
      },
      "outputs": [
        {
          "output_type": "stream",
          "name": "stdout",
          "text": [
            "Looking in indexes: https://pypi.org/simple, https://us-python.pkg.dev/colab-wheels/public/simple/\n",
            "Requirement already satisfied: polars[all] in /usr/local/lib/python3.8/dist-packages (0.16.1)\n",
            "Requirement already satisfied: typing_extensions>=4.0.0 in /usr/local/lib/python3.8/dist-packages (from polars[all]) (4.4.0)\n",
            "Requirement already satisfied: pyarrow>=4.0.0 in /usr/local/lib/python3.8/dist-packages (from polars[all]) (9.0.0)\n",
            "Requirement already satisfied: pandas in /usr/local/lib/python3.8/dist-packages (from polars[all]) (1.3.5)\n",
            "Collecting xlsx2csv>=0.8.0\n",
            "  Downloading xlsx2csv-0.8.1-py3-none-any.whl (13 kB)\n",
            "Requirement already satisfied: fsspec in /usr/local/lib/python3.8/dist-packages (from polars[all]) (2022.11.0)\n",
            "Collecting deltalake>=0.6.2\n",
            "  Downloading deltalake-0.7.0-cp37-abi3-manylinux_2_17_x86_64.manylinux2014_x86_64.whl (18.8 MB)\n",
            "\u001b[2K     \u001b[90m━━━━━━━━━━━━━━━━━━━━━━━━━━━━━━━━━━━━━━━━\u001b[0m \u001b[32m18.8/18.8 MB\u001b[0m \u001b[31m62.6 MB/s\u001b[0m eta \u001b[36m0:00:00\u001b[0m\n",
            "\u001b[?25hRequirement already satisfied: numpy>=1.16.0 in /usr/local/lib/python3.8/dist-packages (from polars[all]) (1.21.6)\n",
            "Collecting connectorx\n",
            "  Downloading connectorx-0.3.1-cp38-cp38-manylinux_2_17_x86_64.manylinux2014_x86_64.whl (46.6 MB)\n",
            "\u001b[2K     \u001b[90m━━━━━━━━━━━━━━━━━━━━━━━━━━━━━━━━━━━━━━━━\u001b[0m \u001b[32m46.6/46.6 MB\u001b[0m \u001b[31m16.5 MB/s\u001b[0m eta \u001b[36m0:00:00\u001b[0m\n",
            "\u001b[?25hRequirement already satisfied: matplotlib in /usr/local/lib/python3.8/dist-packages (from polars[all]) (3.2.2)\n",
            "Collecting backports.zoneinfo\n",
            "  Downloading backports.zoneinfo-0.2.1-cp38-cp38-manylinux1_x86_64.whl (74 kB)\n",
            "\u001b[2K     \u001b[90m━━━━━━━━━━━━━━━━━━━━━━━━━━━━━━━━━━━━━━━━\u001b[0m \u001b[32m74.0/74.0 KB\u001b[0m \u001b[31m7.6 MB/s\u001b[0m eta \u001b[36m0:00:00\u001b[0m\n",
            "\u001b[?25hRequirement already satisfied: cycler>=0.10 in /usr/local/lib/python3.8/dist-packages (from matplotlib->polars[all]) (0.11.0)\n",
            "Requirement already satisfied: kiwisolver>=1.0.1 in /usr/local/lib/python3.8/dist-packages (from matplotlib->polars[all]) (1.4.4)\n",
            "Requirement already satisfied: python-dateutil>=2.1 in /usr/local/lib/python3.8/dist-packages (from matplotlib->polars[all]) (2.8.2)\n",
            "Requirement already satisfied: pyparsing!=2.0.4,!=2.1.2,!=2.1.6,>=2.0.1 in /usr/local/lib/python3.8/dist-packages (from matplotlib->polars[all]) (3.0.9)\n",
            "Requirement already satisfied: pytz>=2017.3 in /usr/local/lib/python3.8/dist-packages (from pandas->polars[all]) (2022.7)\n",
            "Requirement already satisfied: six>=1.5 in /usr/local/lib/python3.8/dist-packages (from python-dateutil>=2.1->matplotlib->polars[all]) (1.15.0)\n",
            "Installing collected packages: xlsx2csv, connectorx, backports.zoneinfo, deltalake\n",
            "Successfully installed backports.zoneinfo-0.2.1 connectorx-0.3.1 deltalake-0.7.0 xlsx2csv-0.8.1\n"
          ]
        }
      ],
      "source": [
        "# !pip install polars\n",
        "!pip install 'polars[all]'"
      ]
    },
    {
      "cell_type": "code",
      "source": [
        "from google.colab import drive\n",
        "drive.mount('/content/drive')"
      ],
      "metadata": {
        "id": "zp9oYOsFNVNY",
        "outputId": "bf778141-bb5e-4182-a394-2476162c585c",
        "colab": {
          "base_uri": "https://localhost:8080/"
        }
      },
      "execution_count": 2,
      "outputs": [
        {
          "output_type": "stream",
          "name": "stdout",
          "text": [
            "Drive already mounted at /content/drive; to attempt to forcibly remount, call drive.mount(\"/content/drive\", force_remount=True).\n"
          ]
        }
      ]
    },
    {
      "cell_type": "code",
      "source": [
        "import polars as pl\n",
        "paths = ['/content/drive/My Drive/OTTO/sub_pip_co-visitiation_577.csv', # 0.577\n",
        "         '/content/drive/My Drive/OTTO/sub_pipeline2_577.csv', # 0.577\n",
        "         '/content/drive/My Drive/OTTO/sub_rerank_577.csv' # 0.577\n",
        "        ]"
      ],
      "metadata": {
        "id": "XDR_jb5Cdjkk"
      },
      "execution_count": 1,
      "outputs": []
    },
    {
      "cell_type": "code",
      "source": [
        "def read_sub(path, weight=1): # by default let us assing the weight of 1 to predictions from each submission, this will be akin to a standard vote ensemble\n",
        "    '''a helper function for loading and preprocessing submissions'''\n",
        "    return (\n",
        "        pl.read_csv(path)\n",
        "            .with_columns(pl.col('labels').str.split(by=' '))\n",
        "            .with_columns(pl.lit(weight).alias('vote'))\n",
        "            .explode('labels')\n",
        "            .rename({'labels': 'aid'})\n",
        "            .with_columns(pl.col('aid').cast(pl.UInt32)) # we are casting the `aids` to `Int32`! memory management is super important to ensure we don't run out of resources\n",
        "            .with_columns(pl.col('vote').cast(pl.UInt8))\n",
        "    )"
      ],
      "metadata": {
        "id": "NcWzGjC_dlFZ"
      },
      "execution_count": 1,
      "outputs": []
    },
    {
      "cell_type": "code",
      "source": [
        "import polars as pl\n",
        "weight=1\n",
        "# sub1=pl.read_csv('/content/drive/My Drive/OTTO/sub_pip_co-visitiation_577.csv').with_columns(pl.col('labels').str.split(by=' ')).with_columns(pl.lit(weight).alias('vote'))\n",
        "# sub2=pl.read_csv('/content/drive/My Drive/OTTO/sub_pipeline2_577.csv').with_columns(pl.col('labels').str.split(by=' ')).with_columns(pl.lit(weight).alias('vote'))\n",
        "# sub3=pl.read_csv('/content/drive/My Drive/OTTO/sub_rerank_577.csv').with_columns(pl.col('labels').str.split(by=' ')).with_columns(pl.lit(weight).alias('vote'))"
      ],
      "metadata": {
        "id": "HQvZTFWQRxEz"
      },
      "execution_count": 3,
      "outputs": []
    },
    {
      "cell_type": "code",
      "source": [
        "# sub1=sub1.explode('labels').rename({'labels': 'aid'})\n",
        "# sub2=sub2.explode('labels').rename({'labels': 'aid'})\n",
        "# sub3=sub3.explode('labels').rename({'labels': 'aid'})"
      ],
      "metadata": {
        "id": "RdEMdaWrSJ38"
      },
      "execution_count": 3,
      "outputs": []
    },
    {
      "cell_type": "code",
      "source": [
        "# sub1=sub1.with_columns(pl.col('aid').cast(pl.UInt32)).with_columns(pl.col('vote').cast(pl.UInt8))\n",
        "# sub2=sub2.with_columns(pl.col('aid').cast(pl.UInt32)).with_columns(pl.col('vote').cast(pl.UInt8))\n",
        "# sub3=sub3.with_columns(pl.col('aid').cast(pl.UInt32)).with_columns(pl.col('vote').cast(pl.UInt8))"
      ],
      "metadata": {
        "id": "IJXyP7UqVXg3"
      },
      "execution_count": 3,
      "outputs": []
    },
    {
      "cell_type": "code",
      "source": [
        "# sub1.write_csv('/content/drive/My Drive/OTTO/sub1.csv')"
      ],
      "metadata": {
        "id": "GcNtsNhDTx8-"
      },
      "execution_count": 4,
      "outputs": []
    },
    {
      "cell_type": "code",
      "source": [
        "import polars as pl\n",
        "sub1=pl.read_csv('/content/drive/My Drive/OTTO/sub1.csv')\n",
        "sub2=pl.read_csv('/content/drive/My Drive/OTTO/sub2.csv')\n",
        "sub3=pl.read_csv('/content/drive/My Drive/OTTO/sub3.csv')"
      ],
      "metadata": {
        "id": "SKTkNHieUueh"
      },
      "execution_count": null,
      "outputs": []
    },
    {
      "cell_type": "code",
      "source": [
        "subs = [read_sub(path) for path in paths]"
      ],
      "metadata": {
        "id": "Kz37U83Bd90t"
      },
      "execution_count": null,
      "outputs": []
    },
    {
      "cell_type": "code",
      "source": [
        "# subs = subs[0].join(subs[1], how='outer', on=['session_type', 'aid']).join(subs[2], how='outer', on=['session_type', 'aid'], suffix='_right2')\n",
        "# subs.head()\n",
        "subs = sub1.join(sub2, how='outer', on=['session_type', 'aid'])"
      ],
      "metadata": {
        "id": "T5cPwEW6d_Gt"
      },
      "execution_count": null,
      "outputs": []
    },
    {
      "cell_type": "code",
      "source": [
        "subs = (subs\n",
        "    .fill_null(0)\n",
        "    .with_column((pl.col('vote') + pl.col('vote_right') + pl.col('vote_right2')).alias('vote_sum'))\n",
        "    .drop(['vote', 'vote_right', 'vote_right2'])\n",
        "    .sort(by='vote_sum')\n",
        "    .reverse()\n",
        ")\n",
        "\n",
        "subs.head()"
      ],
      "metadata": {
        "id": "EnwkQyqPeC51"
      },
      "execution_count": null,
      "outputs": []
    },
    {
      "cell_type": "code",
      "source": [
        "%%time\n",
        "preds = subs.groupby('session_type').agg([\n",
        "    pl.col('aid').head(20).alias('labels')\n",
        "])\n",
        "\n",
        "preds = preds.with_column(pl.col('labels').apply(lambda lst: ' '.join([str(aid) for aid in lst])))"
      ],
      "metadata": {
        "id": "HsDN7t9-eJV2"
      },
      "execution_count": null,
      "outputs": []
    },
    {
      "cell_type": "code",
      "source": [
        "preds.write_csv('submission.csv')"
      ],
      "metadata": {
        "id": "OTX-6Ln3MCpU"
      },
      "execution_count": null,
      "outputs": []
    }
  ]
}