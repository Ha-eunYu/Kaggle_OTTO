{
  "nbformat": 4,
  "nbformat_minor": 0,
  "metadata": {
    "colab": {
      "provenance": [],
      "machine_shape": "hm",
      "authorship_tag": "ABX9TyMbbAsJ4jwcYnc9dHfG+zBO",
      "include_colab_link": true
    },
    "kernelspec": {
      "name": "python3",
      "display_name": "Python 3"
    },
    "language_info": {
      "name": "python"
    },
    "gpuClass": "standard"
  },
  "cells": [
    {
      "cell_type": "markdown",
      "metadata": {
        "id": "view-in-github",
        "colab_type": "text"
      },
      "source": [
        "<a href=\"https://colab.research.google.com/github/Ha-eunYu/OTTO/blob/main/otto_v4.ipynb\" target=\"_parent\"><img src=\"https://colab.research.google.com/assets/colab-badge.svg\" alt=\"Open In Colab\"/></a>"
      ]
    },
    {
      "cell_type": "code",
      "execution_count": 1,
      "metadata": {
        "id": "WR6gpIm2cpOB",
        "colab": {
          "base_uri": "https://localhost:8080/"
        },
        "outputId": "5c1600b7-d9a4-401e-c03b-587140c59ba5"
      },
      "outputs": [
        {
          "output_type": "stream",
          "name": "stdout",
          "text": [
            "Looking in indexes: https://pypi.org/simple, https://us-python.pkg.dev/colab-wheels/public/simple/\n",
            "Collecting polars[all]\n",
            "  Downloading polars-0.16.1-cp37-abi3-manylinux_2_17_x86_64.manylinux2014_x86_64.whl (15.3 MB)\n",
            "\u001b[2K     \u001b[90m━━━━━━━━━━━━━━━━━━━━━━━━━━━━━━━━━━━━━━━━\u001b[0m \u001b[32m15.3/15.3 MB\u001b[0m \u001b[31m91.3 MB/s\u001b[0m eta \u001b[36m0:00:00\u001b[0m\n",
            "\u001b[?25hRequirement already satisfied: typing_extensions>=4.0.0 in /usr/local/lib/python3.8/dist-packages (from polars[all]) (4.4.0)\n",
            "Collecting deltalake>=0.6.2\n",
            "  Downloading deltalake-0.7.0-cp37-abi3-manylinux_2_17_x86_64.manylinux2014_x86_64.whl (18.8 MB)\n",
            "\u001b[2K     \u001b[90m━━━━━━━━━━━━━━━━━━━━━━━━━━━━━━━━━━━━━━━━\u001b[0m \u001b[32m18.8/18.8 MB\u001b[0m \u001b[31m66.0 MB/s\u001b[0m eta \u001b[36m0:00:00\u001b[0m\n",
            "\u001b[?25hRequirement already satisfied: matplotlib in /usr/local/lib/python3.8/dist-packages (from polars[all]) (3.2.2)\n",
            "Requirement already satisfied: pyarrow>=4.0.0 in /usr/local/lib/python3.8/dist-packages (from polars[all]) (9.0.0)\n",
            "Requirement already satisfied: numpy>=1.16.0 in /usr/local/lib/python3.8/dist-packages (from polars[all]) (1.21.6)\n",
            "Requirement already satisfied: pandas in /usr/local/lib/python3.8/dist-packages (from polars[all]) (1.3.5)\n",
            "Collecting xlsx2csv>=0.8.0\n",
            "  Downloading xlsx2csv-0.8.1-py3-none-any.whl (13 kB)\n",
            "Requirement already satisfied: fsspec in /usr/local/lib/python3.8/dist-packages (from polars[all]) (2022.11.0)\n",
            "Collecting backports.zoneinfo\n",
            "  Downloading backports.zoneinfo-0.2.1-cp38-cp38-manylinux1_x86_64.whl (74 kB)\n",
            "\u001b[2K     \u001b[90m━━━━━━━━━━━━━━━━━━━━━━━━━━━━━━━━━━━━━━━━\u001b[0m \u001b[32m74.0/74.0 KB\u001b[0m \u001b[31m11.3 MB/s\u001b[0m eta \u001b[36m0:00:00\u001b[0m\n",
            "\u001b[?25hCollecting connectorx\n",
            "  Downloading connectorx-0.3.1-cp38-cp38-manylinux_2_17_x86_64.manylinux2014_x86_64.whl (46.6 MB)\n",
            "\u001b[2K     \u001b[90m━━━━━━━━━━━━━━━━━━━━━━━━━━━━━━━━━━━━━━━━\u001b[0m \u001b[32m46.6/46.6 MB\u001b[0m \u001b[31m33.9 MB/s\u001b[0m eta \u001b[36m0:00:00\u001b[0m\n",
            "\u001b[?25hRequirement already satisfied: python-dateutil>=2.1 in /usr/local/lib/python3.8/dist-packages (from matplotlib->polars[all]) (2.8.2)\n",
            "Requirement already satisfied: pyparsing!=2.0.4,!=2.1.2,!=2.1.6,>=2.0.1 in /usr/local/lib/python3.8/dist-packages (from matplotlib->polars[all]) (3.0.9)\n",
            "Requirement already satisfied: kiwisolver>=1.0.1 in /usr/local/lib/python3.8/dist-packages (from matplotlib->polars[all]) (1.4.4)\n",
            "Requirement already satisfied: cycler>=0.10 in /usr/local/lib/python3.8/dist-packages (from matplotlib->polars[all]) (0.11.0)\n",
            "Requirement already satisfied: pytz>=2017.3 in /usr/local/lib/python3.8/dist-packages (from pandas->polars[all]) (2022.7)\n",
            "Requirement already satisfied: six>=1.5 in /usr/local/lib/python3.8/dist-packages (from python-dateutil>=2.1->matplotlib->polars[all]) (1.15.0)\n",
            "Installing collected packages: xlsx2csv, connectorx, polars, backports.zoneinfo, deltalake\n",
            "Successfully installed backports.zoneinfo-0.2.1 connectorx-0.3.1 deltalake-0.7.0 polars-0.16.1 xlsx2csv-0.8.1\n"
          ]
        }
      ],
      "source": [
        "# !pip install polars\n",
        "!pip install 'polars[all]'"
      ]
    },
    {
      "cell_type": "code",
      "source": [
        "from google.colab import drive\n",
        "drive.mount('/content/drive')"
      ],
      "metadata": {
        "id": "zp9oYOsFNVNY",
        "outputId": "94b8a134-9bdc-4dd0-ba2d-2e6128a920b6",
        "colab": {
          "base_uri": "https://localhost:8080/"
        }
      },
      "execution_count": 2,
      "outputs": [
        {
          "output_type": "stream",
          "name": "stdout",
          "text": [
            "Mounted at /content/drive\n"
          ]
        }
      ]
    },
    {
      "cell_type": "code",
      "source": [
        "import polars as pl\n",
        "paths = ['/content/drive/My Drive/OTTO/sub_pip_co-visitiation_577.csv', # 0.577\n",
        "         '/content/drive/My Drive/OTTO/sub_pipeline2_577.csv', # 0.577\n",
        "         '/content/drive/My Drive/OTTO/sub_rerank_577.csv' # 0.577\n",
        "        ]"
      ],
      "metadata": {
        "id": "XDR_jb5Cdjkk"
      },
      "execution_count": 3,
      "outputs": []
    },
    {
      "cell_type": "code",
      "source": [
        "def read_sub(path, weight=1): # by default let us assing the weight of 1 to predictions from each submission, this will be akin to a standard vote ensemble\n",
        "    '''a helper function for loading and preprocessing submissions'''\n",
        "    return (\n",
        "        pl.read_csv(path)\n",
        "            .with_columns(pl.col('labels').str.split(by=' '))\n",
        "            .with_columns(pl.lit(weight).alias('vote'))\n",
        "            .explode('labels')\n",
        "            .rename({'labels': 'aid'})\n",
        "            .with_columns(pl.col('aid').cast(pl.UInt32)) # we are casting the `aids` to `Int32`! memory management is super important to ensure we don't run out of resources\n",
        "            .with_columns(pl.col('vote').cast(pl.UInt8))\n",
        "    )"
      ],
      "metadata": {
        "id": "NcWzGjC_dlFZ"
      },
      "execution_count": 4,
      "outputs": []
    },
    {
      "cell_type": "code",
      "source": [
        "import polars as pl\n",
        "weight=1\n",
        "# sub1=pl.read_csv('/content/drive/My Drive/OTTO/sub_pip_co-visitiation_577.csv').with_columns(pl.col('labels').str.split(by=' ')).with_columns(pl.lit(weight).alias('vote'))\n",
        "# sub2=pl.read_csv('/content/drive/My Drive/OTTO/sub_pipeline2_577.csv').with_columns(pl.col('labels').str.split(by=' ')).with_columns(pl.lit(weight).alias('vote'))\n",
        "# sub3=pl.read_csv('/content/drive/My Drive/OTTO/sub_rerank_577.csv').with_columns(pl.col('labels').str.split(by=' ')).with_columns(pl.lit(weight).alias('vote'))"
      ],
      "metadata": {
        "id": "HQvZTFWQRxEz"
      },
      "execution_count": null,
      "outputs": []
    },
    {
      "cell_type": "code",
      "source": [
        "# sub1=sub1.explode('labels').rename({'labels': 'aid'})\n",
        "# sub2=sub2.explode('labels').rename({'labels': 'aid'})\n",
        "# sub3=sub3.explode('labels').rename({'labels': 'aid'})"
      ],
      "metadata": {
        "id": "RdEMdaWrSJ38"
      },
      "execution_count": null,
      "outputs": []
    },
    {
      "cell_type": "code",
      "source": [
        "# sub1=sub1.with_columns(pl.col('aid').cast(pl.UInt32)).with_columns(pl.col('vote').cast(pl.UInt8))\n",
        "# sub2=sub2.with_columns(pl.col('aid').cast(pl.UInt32)).with_columns(pl.col('vote').cast(pl.UInt8))\n",
        "# sub3=sub3.with_columns(pl.col('aid').cast(pl.UInt32)).with_columns(pl.col('vote').cast(pl.UInt8))"
      ],
      "metadata": {
        "id": "IJXyP7UqVXg3"
      },
      "execution_count": null,
      "outputs": []
    },
    {
      "cell_type": "code",
      "source": [
        "# sub1.write_csv('/content/drive/My Drive/OTTO/sub1.csv')"
      ],
      "metadata": {
        "id": "GcNtsNhDTx8-"
      },
      "execution_count": null,
      "outputs": []
    },
    {
      "cell_type": "code",
      "source": [
        "# import polars as pl\n",
        "# sub1=pl.read_csv('/content/drive/My Drive/OTTO/sub1.csv')\n",
        "# sub2=pl.read_csv('/content/drive/My Drive/OTTO/sub2.csv')\n",
        "# sub3=pl.read_csv('/content/drive/My Drive/OTTO/sub3.csv')"
      ],
      "metadata": {
        "id": "SKTkNHieUueh"
      },
      "execution_count": null,
      "outputs": []
    },
    {
      "cell_type": "code",
      "source": [
        "subs = [read_sub(path) for path in paths]"
      ],
      "metadata": {
        "id": "Kz37U83Bd90t"
      },
      "execution_count": 6,
      "outputs": []
    },
    {
      "cell_type": "code",
      "source": [
        "subs = subs[0].join(subs[1], how='outer', on=['session_type', 'aid']).join(subs[2], how='outer', on=['session_type', 'aid'], suffix='_right2')\n",
        "subs.head()\n",
        "# subs = sub1.join(sub2, how='outer', on=['session_type', 'aid'])"
      ],
      "metadata": {
        "id": "T5cPwEW6d_Gt",
        "outputId": "ed16bb29-4bb1-485a-d653-286368779e39",
        "colab": {
          "base_uri": "https://localhost:8080/",
          "height": 231
        }
      },
      "execution_count": 7,
      "outputs": [
        {
          "output_type": "execute_result",
          "data": {
            "text/plain": [
              "shape: (5, 5)\n",
              "┌─────────────────┬─────────┬──────┬────────────┬─────────────┐\n",
              "│ session_type    ┆ aid     ┆ vote ┆ vote_right ┆ vote_right2 │\n",
              "│ ---             ┆ ---     ┆ ---  ┆ ---        ┆ ---         │\n",
              "│ str             ┆ u32     ┆ u8   ┆ u8         ┆ u8          │\n",
              "╞═════════════════╪═════════╪══════╪════════════╪═════════════╡\n",
              "│ 12899779_clicks ┆ 59625   ┆ 1    ┆ 1          ┆ 1           │\n",
              "│ 12899779_clicks ┆ 1253524 ┆ 1    ┆ 1          ┆ 1           │\n",
              "│ 12899779_clicks ┆ 737445  ┆ 1    ┆ 1          ┆ 1           │\n",
              "│ 12899779_clicks ┆ 438191  ┆ 1    ┆ 1          ┆ 1           │\n",
              "│ 12899779_clicks ┆ 731692  ┆ 1    ┆ 1          ┆ 1           │\n",
              "└─────────────────┴─────────┴──────┴────────────┴─────────────┘"
            ],
            "text/html": [
              "<div>\n",
              "<style scoped>\n",
              "    .dataframe tbody tr th:only-of-type {\n",
              "        vertical-align: middle;\n",
              "    }\n",
              "\n",
              "    .dataframe tbody tr th {\n",
              "        vertical-align: top;\n",
              "    }\n",
              "\n",
              "    .dataframe thead th {\n",
              "        text-align: right;\n",
              "    }\n",
              "\n",
              "    .dataframe td {\n",
              "        white-space: pre;\n",
              "    }\n",
              "\n",
              "    .dataframe td {\n",
              "        padding-top: 0;\n",
              "    }\n",
              "\n",
              "    .dataframe td {\n",
              "        padding-bottom: 0;\n",
              "    }\n",
              "\n",
              "    .dataframe td {\n",
              "        line-height: 95%;\n",
              "    }\n",
              "</style>\n",
              "<table border=\"1\" class=\"dataframe\">\n",
              "<small>shape: (5, 5)</small>\n",
              "<thead>\n",
              "<tr>\n",
              "<th>\n",
              "session_type\n",
              "</th>\n",
              "<th>\n",
              "aid\n",
              "</th>\n",
              "<th>\n",
              "vote\n",
              "</th>\n",
              "<th>\n",
              "vote_right\n",
              "</th>\n",
              "<th>\n",
              "vote_right2\n",
              "</th>\n",
              "</tr>\n",
              "<tr>\n",
              "<td>\n",
              "str\n",
              "</td>\n",
              "<td>\n",
              "u32\n",
              "</td>\n",
              "<td>\n",
              "u8\n",
              "</td>\n",
              "<td>\n",
              "u8\n",
              "</td>\n",
              "<td>\n",
              "u8\n",
              "</td>\n",
              "</tr>\n",
              "</thead>\n",
              "<tbody>\n",
              "<tr>\n",
              "<td>\n",
              "&quot;12899779_click...\n",
              "</td>\n",
              "<td>\n",
              "59625\n",
              "</td>\n",
              "<td>\n",
              "1\n",
              "</td>\n",
              "<td>\n",
              "1\n",
              "</td>\n",
              "<td>\n",
              "1\n",
              "</td>\n",
              "</tr>\n",
              "<tr>\n",
              "<td>\n",
              "&quot;12899779_click...\n",
              "</td>\n",
              "<td>\n",
              "1253524\n",
              "</td>\n",
              "<td>\n",
              "1\n",
              "</td>\n",
              "<td>\n",
              "1\n",
              "</td>\n",
              "<td>\n",
              "1\n",
              "</td>\n",
              "</tr>\n",
              "<tr>\n",
              "<td>\n",
              "&quot;12899779_click...\n",
              "</td>\n",
              "<td>\n",
              "737445\n",
              "</td>\n",
              "<td>\n",
              "1\n",
              "</td>\n",
              "<td>\n",
              "1\n",
              "</td>\n",
              "<td>\n",
              "1\n",
              "</td>\n",
              "</tr>\n",
              "<tr>\n",
              "<td>\n",
              "&quot;12899779_click...\n",
              "</td>\n",
              "<td>\n",
              "438191\n",
              "</td>\n",
              "<td>\n",
              "1\n",
              "</td>\n",
              "<td>\n",
              "1\n",
              "</td>\n",
              "<td>\n",
              "1\n",
              "</td>\n",
              "</tr>\n",
              "<tr>\n",
              "<td>\n",
              "&quot;12899779_click...\n",
              "</td>\n",
              "<td>\n",
              "731692\n",
              "</td>\n",
              "<td>\n",
              "1\n",
              "</td>\n",
              "<td>\n",
              "1\n",
              "</td>\n",
              "<td>\n",
              "1\n",
              "</td>\n",
              "</tr>\n",
              "</tbody>\n",
              "</table>\n",
              "</div>"
            ]
          },
          "metadata": {},
          "execution_count": 7
        }
      ]
    },
    {
      "cell_type": "code",
      "source": [
        "subs = (subs\n",
        "    .fill_null(0)\n",
        "    .with_column((pl.col('vote') + pl.col('vote_right') + pl.col('vote_right2')).alias('vote_sum'))\n",
        "    .drop(['vote', 'vote_right', 'vote_right2'])\n",
        "    .sort(by='vote_sum')\n",
        "    .reverse()\n",
        ")\n",
        "\n",
        "subs.head()"
      ],
      "metadata": {
        "id": "EnwkQyqPeC51",
        "outputId": "632df0a5-4761-4b98-f207-dd05701bdf3e",
        "colab": {
          "base_uri": "https://localhost:8080/",
          "height": 268
        }
      },
      "execution_count": 8,
      "outputs": [
        {
          "output_type": "stream",
          "name": "stderr",
          "text": [
            "<ipython-input-8-a028f947c706>:1: DeprecationWarning: `with_column` has been deprecated in favor of `with_columns`. This method will be removed in version 0.17.0\n",
            "  subs = (subs\n"
          ]
        },
        {
          "output_type": "execute_result",
          "data": {
            "text/plain": [
              "shape: (5, 3)\n",
              "┌────────────────┬─────────┬──────────┐\n",
              "│ session_type   ┆ aid     ┆ vote_sum │\n",
              "│ ---            ┆ ---     ┆ ---      │\n",
              "│ str            ┆ u32     ┆ u8       │\n",
              "╞════════════════╪═════════╪══════════╡\n",
              "│ 14571581_carts ┆ 196038  ┆ 3        │\n",
              "│ 14571581_carts ┆ 1780093 ┆ 3        │\n",
              "│ 14571581_carts ┆ 1497245 ┆ 3        │\n",
              "│ 14571581_carts ┆ 174670  ┆ 3        │\n",
              "│ 14571581_carts ┆ 1764910 ┆ 3        │\n",
              "└────────────────┴─────────┴──────────┘"
            ],
            "text/html": [
              "<div>\n",
              "<style scoped>\n",
              "    .dataframe tbody tr th:only-of-type {\n",
              "        vertical-align: middle;\n",
              "    }\n",
              "\n",
              "    .dataframe tbody tr th {\n",
              "        vertical-align: top;\n",
              "    }\n",
              "\n",
              "    .dataframe thead th {\n",
              "        text-align: right;\n",
              "    }\n",
              "\n",
              "    .dataframe td {\n",
              "        white-space: pre;\n",
              "    }\n",
              "\n",
              "    .dataframe td {\n",
              "        padding-top: 0;\n",
              "    }\n",
              "\n",
              "    .dataframe td {\n",
              "        padding-bottom: 0;\n",
              "    }\n",
              "\n",
              "    .dataframe td {\n",
              "        line-height: 95%;\n",
              "    }\n",
              "</style>\n",
              "<table border=\"1\" class=\"dataframe\">\n",
              "<small>shape: (5, 3)</small>\n",
              "<thead>\n",
              "<tr>\n",
              "<th>\n",
              "session_type\n",
              "</th>\n",
              "<th>\n",
              "aid\n",
              "</th>\n",
              "<th>\n",
              "vote_sum\n",
              "</th>\n",
              "</tr>\n",
              "<tr>\n",
              "<td>\n",
              "str\n",
              "</td>\n",
              "<td>\n",
              "u32\n",
              "</td>\n",
              "<td>\n",
              "u8\n",
              "</td>\n",
              "</tr>\n",
              "</thead>\n",
              "<tbody>\n",
              "<tr>\n",
              "<td>\n",
              "&quot;14571581_carts...\n",
              "</td>\n",
              "<td>\n",
              "196038\n",
              "</td>\n",
              "<td>\n",
              "3\n",
              "</td>\n",
              "</tr>\n",
              "<tr>\n",
              "<td>\n",
              "&quot;14571581_carts...\n",
              "</td>\n",
              "<td>\n",
              "1780093\n",
              "</td>\n",
              "<td>\n",
              "3\n",
              "</td>\n",
              "</tr>\n",
              "<tr>\n",
              "<td>\n",
              "&quot;14571581_carts...\n",
              "</td>\n",
              "<td>\n",
              "1497245\n",
              "</td>\n",
              "<td>\n",
              "3\n",
              "</td>\n",
              "</tr>\n",
              "<tr>\n",
              "<td>\n",
              "&quot;14571581_carts...\n",
              "</td>\n",
              "<td>\n",
              "174670\n",
              "</td>\n",
              "<td>\n",
              "3\n",
              "</td>\n",
              "</tr>\n",
              "<tr>\n",
              "<td>\n",
              "&quot;14571581_carts...\n",
              "</td>\n",
              "<td>\n",
              "1764910\n",
              "</td>\n",
              "<td>\n",
              "3\n",
              "</td>\n",
              "</tr>\n",
              "</tbody>\n",
              "</table>\n",
              "</div>"
            ]
          },
          "metadata": {},
          "execution_count": 8
        }
      ]
    },
    {
      "cell_type": "code",
      "source": [
        "%%time\n",
        "# preds = subs.groupby('session_type').agg([\n",
        "#     pl.col('aid').head(20).alias('labels')\n",
        "# ]) \n",
        "preds = preds.with_column(pl.col('labels').apply(lambda lst: ' '.join([str(aid) for aid in lst])))\n",
        "# preds"
      ],
      "metadata": {
        "id": "HsDN7t9-eJV2",
        "outputId": "44d43aa8-1903-47ee-d529-22a07b5c7c37",
        "colab": {
          "base_uri": "https://localhost:8080/"
        }
      },
      "execution_count": 10,
      "outputs": [
        {
          "output_type": "stream",
          "name": "stderr",
          "text": [
            "<timed exec>:4: DeprecationWarning: `with_column` has been deprecated in favor of `with_columns`. This method will be removed in version 0.17.0\n"
          ]
        },
        {
          "output_type": "stream",
          "name": "stdout",
          "text": [
            "CPU times: user 3min 1s, sys: 4.43 s, total: 3min 6s\n",
            "Wall time: 3min 5s\n"
          ]
        }
      ]
    },
    {
      "cell_type": "code",
      "source": [
        "preds.write_csv('submission.csv')"
      ],
      "metadata": {
        "id": "OTX-6Ln3MCpU"
      },
      "execution_count": 11,
      "outputs": []
    },
    {
      "cell_type": "code",
      "source": [
        "preds.write_csv('/content/drive/My Drive/OTTO/submission_ens.csv')"
      ],
      "metadata": {
        "id": "1YiLCgZMpEkP"
      },
      "execution_count": 12,
      "outputs": []
    },
    {
      "cell_type": "code",
      "source": [],
      "metadata": {
        "id": "U8wIJHIqplIs"
      },
      "execution_count": null,
      "outputs": []
    }
  ]
}